{
 "cells": [
  {
   "cell_type": "code",
   "execution_count": 1,
   "id": "0c277285-0a0e-440c-adaa-206c46d9a7d5",
   "metadata": {},
   "outputs": [
    {
     "name": "stdout",
     "output_type": "stream",
     "text": [
      "The maximum value that can be carried in the knapsack is: 220\n"
     ]
    }
   ],
   "source": [
    "class Item:\n",
    "    def __init__(self, value, weight):\n",
    "        self.value = value\n",
    "        self.weight = weight\n",
    "\n",
    "def knapsack_sol(capacity, items):\n",
    "    dp = [0] * (capacity + 1)\n",
    "\n",
    "    for item in items:\n",
    "        for w in range(capacity, item.weight - 1, -1):\n",
    "            dp[w] = max(dp[w], dp[w - item.weight] + item.value)\n",
    "\n",
    "    return dp[capacity]\n",
    "\n",
    "items = [\n",
    "    Item(60, 10),  \n",
    "    Item(100, 20), \n",
    "    Item(120, 30)\n",
    "]\n",
    "\n",
    "capacity = 50\n",
    "max_value = knapsack_sol(capacity, items)\n",
    "\n",
    "print(\"The maximum value that can be carried in the knapsack is:\", max_value)\n"
   ]
  },
  {
   "cell_type": "code",
   "execution_count": null,
   "id": "1908a8c7-e3ca-4edc-8270-74c5f989f85d",
   "metadata": {},
   "outputs": [],
   "source": []
  }
 ],
 "metadata": {
  "kernelspec": {
   "display_name": "Python 3 (ipykernel)",
   "language": "python",
   "name": "python3"
  },
  "language_info": {
   "codemirror_mode": {
    "name": "ipython",
    "version": 3
   },
   "file_extension": ".py",
   "mimetype": "text/x-python",
   "name": "python",
   "nbconvert_exporter": "python",
   "pygments_lexer": "ipython3",
   "version": "3.11.7"
  }
 },
 "nbformat": 4,
 "nbformat_minor": 5
}
