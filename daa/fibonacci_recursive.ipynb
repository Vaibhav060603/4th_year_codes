{
 "cells": [
  {
   "cell_type": "code",
   "execution_count": 11,
   "id": "739976c7-7752-42bf-a5e9-13d3d5ec621d",
   "metadata": {},
   "outputs": [
    {
     "name": "stdin",
     "output_type": "stream",
     "text": [
      "Enter the number of elements in fibonacci series:  10\n"
     ]
    },
    {
     "name": "stdout",
     "output_type": "stream",
     "text": [
      "0\n",
      "1\n",
      "1\n",
      "2\n",
      "3\n",
      "5\n",
      "8\n",
      "13\n",
      "21\n",
      "34\n"
     ]
    }
   ],
   "source": [
    "n = int(input(\"Enter the number of elements in fibonacci series: \"))\n",
    "\n",
    "def fibonacci_recursive(p):\n",
    "    if(p<=1):\n",
    "        return p\n",
    "\n",
    "    else:\n",
    "        return fibonacci_recursive(p-1) + fibonacci_recursive(p-2)\n",
    "\n",
    "for i in range(0,n):\n",
    "    print(fibonacci_recursive(i))\n",
    "\n",
    "\n",
    "\n",
    "    \n",
    "  \n",
    "\n"
   ]
  },
  {
   "cell_type": "code",
   "execution_count": null,
   "id": "3e077d00-11d5-4ba0-ba6e-8a985f9bd12e",
   "metadata": {},
   "outputs": [],
   "source": []
  }
 ],
 "metadata": {
  "kernelspec": {
   "display_name": "Python 3 (ipykernel)",
   "language": "python",
   "name": "python3"
  },
  "language_info": {
   "codemirror_mode": {
    "name": "ipython",
    "version": 3
   },
   "file_extension": ".py",
   "mimetype": "text/x-python",
   "name": "python",
   "nbconvert_exporter": "python",
   "pygments_lexer": "ipython3",
   "version": "3.11.7"
  }
 },
 "nbformat": 4,
 "nbformat_minor": 5
}
