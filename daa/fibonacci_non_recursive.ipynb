{
 "cells": [
  {
   "cell_type": "code",
   "execution_count": 9,
   "id": "3fdc9bd5-b3eb-4b32-bdd8-19c4455f2dcc",
   "metadata": {},
   "outputs": [
    {
     "name": "stdin",
     "output_type": "stream",
     "text": [
      "Enter the number of elements in fibonacci series:  10\n"
     ]
    },
    {
     "name": "stdout",
     "output_type": "stream",
     "text": [
      "Fibonacci series:\n",
      "0\n",
      "1\n",
      "1\n",
      "2\n",
      "3\n",
      "5\n",
      "8\n",
      "13\n",
      "21\n",
      "34\n"
     ]
    }
   ],
   "source": [
    "n = int(input(\"Enter the number of elements in fibonacci series: \"))\n",
    "\n",
    "if(n==0):\n",
    "    print(\"No elements in fibonacci series.\")\n",
    "\n",
    "if(n==1):\n",
    "    print(\"Fibonacci series: \\n0\")\n",
    "\n",
    "if(n==2):\n",
    "    print(\"Fibonacci series: \\n0 \\n1\")\n",
    "\n",
    "if(n>2):\n",
    "    print(\"Fibonacci series:\")\n",
    "    n1 = 0;\n",
    "    n2 = 1;\n",
    "\n",
    "    print(\"0 \\n1\")\n",
    "    \n",
    "    for i in range(0,n-2):\n",
    "        n3 = n1+n2\n",
    "        print(n3, \"\\t\")\n",
    "        n1 = n2\n",
    "        n2 = n3\n",
    "\n",
    "\n",
    "    "
   ]
  },
  {
   "cell_type": "code",
   "execution_count": null,
   "id": "af960af5-6bfa-4f85-89a1-df4b8ce94140",
   "metadata": {},
   "outputs": [],
   "source": []
  }
 ],
 "metadata": {
  "kernelspec": {
   "display_name": "Python 3 (ipykernel)",
   "language": "python",
   "name": "python3"
  },
  "language_info": {
   "codemirror_mode": {
    "name": "ipython",
    "version": 3
   },
   "file_extension": ".py",
   "mimetype": "text/x-python",
   "name": "python",
   "nbconvert_exporter": "python",
   "pygments_lexer": "ipython3",
   "version": "3.11.7"
  }
 },
 "nbformat": 4,
 "nbformat_minor": 5
}
