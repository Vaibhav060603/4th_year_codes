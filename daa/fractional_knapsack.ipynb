{
 "cells": [
  {
   "cell_type": "code",
   "execution_count": 1,
   "id": "4959520a-2a96-4d59-8d27-94b58123f367",
   "metadata": {},
   "outputs": [],
   "source": [
    "class item:\n",
    "    def __init__(self, value, weight):\n",
    "        self.value = value\n",
    "        self.weight = weight\n",
    "\n",
    "    def value_by_weight(self):\n",
    "        return self.value/self.weight"
   ]
  },
  {
   "cell_type": "code",
   "execution_count": 2,
   "id": "0bad80bc-ed0a-42b9-aaf7-1565a075fc88",
   "metadata": {},
   "outputs": [],
   "source": [
    "def fractional_knapsack(capacity, items):\n",
    "    items.sort(key = lambda item: item.value_by_weight(), reverse = True)\n",
    "\n",
    "    total_value = 0\n",
    "    remaining_capacity = capacity\n",
    "\n",
    "    for item in items:\n",
    "        if(item.weight <= remaining_capacity):\n",
    "            total_value = total_value + item.value\n",
    "            remaining_capacity = remaining_capacity - item.weight\n",
    "\n",
    "        else:\n",
    "            fraction = remaining_capacity / item.weight\n",
    "            total_value = total_value + item.value*fraction\n",
    "            break\n",
    "\n",
    "    return total_value"
   ]
  },
  {
   "cell_type": "code",
   "execution_count": 3,
   "id": "8d6c7569-ba87-44f7-801b-ef4179da80c3",
   "metadata": {},
   "outputs": [
    {
     "name": "stdout",
     "output_type": "stream",
     "text": [
      "maximum value/profit that knapsack can hold is  240.0\n"
     ]
    }
   ],
   "source": [
    "items = [item(60,10), item(100,20), item(120,30)]   #item(value,weight)\n",
    "\n",
    "capacity = 50\n",
    "\n",
    "print(\"maximum value/profit that knapsack can hold is \", fractional_knapsack(capacity, items))\n",
    "\n"
   ]
  },
  {
   "cell_type": "code",
   "execution_count": null,
   "id": "caf05488-3435-4c91-9222-0eab72f1eec0",
   "metadata": {},
   "outputs": [],
   "source": []
  }
 ],
 "metadata": {
  "kernelspec": {
   "display_name": "Python 3 (ipykernel)",
   "language": "python",
   "name": "python3"
  },
  "language_info": {
   "codemirror_mode": {
    "name": "ipython",
    "version": 3
   },
   "file_extension": ".py",
   "mimetype": "text/x-python",
   "name": "python",
   "nbconvert_exporter": "python",
   "pygments_lexer": "ipython3",
   "version": "3.11.7"
  }
 },
 "nbformat": 4,
 "nbformat_minor": 5
}
