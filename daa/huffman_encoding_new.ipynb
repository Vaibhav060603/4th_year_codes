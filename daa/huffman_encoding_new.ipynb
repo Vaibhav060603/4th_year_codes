{
 "cells": [
  {
   "cell_type": "code",
   "execution_count": 1,
   "id": "d36161a2-6982-4f75-ad65-e75929290e6e",
   "metadata": {},
   "outputs": [
    {
     "name": "stdout",
     "output_type": "stream",
     "text": [
      "c->00\n",
      "d->10\n",
      "a->001\n",
      "b->101\n",
      "e->11\n"
     ]
    }
   ],
   "source": [
    "import heapq\n",
    "\n",
    "class node:\n",
    "    def __init__(self, freq, symbol, left, right):\n",
    "        self.freq = freq\n",
    "        self.symbol = symbol\n",
    "        self.left = left\n",
    "        self.right = right\n",
    "        self.huff = ''\n",
    "\n",
    "    def __lt__(self, nxt):\n",
    "        return self.freq < nxt.freq\n",
    "         \n",
    "\n",
    "\n",
    "\n",
    "\n",
    "\n",
    "\n",
    "\n",
    "def printnodes(node, val=''):\n",
    "    newval = node.huff + val\n",
    "\n",
    "    if not node.left and not node.right:\n",
    "        print(node.symbol + \"->\" + newval)\n",
    "\n",
    "    else:\n",
    "        if(node.left):\n",
    "            printnodes(node.left, newval)\n",
    "        if(node.right):\n",
    "            printnodes(node.right, newval) \n",
    "\n",
    "\n",
    "\n",
    "\n",
    "\n",
    "\n",
    "\n",
    "\n",
    "              \n",
    "chars = ['a', 'b', 'c', 'd', 'e']\n",
    "freq = [5, 9, 12, 13, 16]\n",
    "nodes = []\n",
    "\n",
    "for n in range(len(chars)):\n",
    "    heapq.heappush(nodes, node(freq[n], chars[n], None, None))\n",
    "\n",
    "#building huffman tree\n",
    "while len(nodes)>1:\n",
    "        left = heapq.heappop(nodes)\n",
    "        left.huff = '0'\n",
    "    \n",
    "        right = heapq.heappop(nodes)\n",
    "        right.huff = '1'\n",
    "\n",
    "        newNode = node(left.freq + right.freq, left.symbol + right.symbol, left, right)\n",
    "        heapq.heappush(nodes, newNode)\n",
    "\n",
    "printnodes(nodes[0])\n"
   ]
  },
  {
   "cell_type": "code",
   "execution_count": null,
   "id": "61aaf6b7-c2e1-4287-8442-dc2695ae342b",
   "metadata": {},
   "outputs": [],
   "source": []
  }
 ],
 "metadata": {
  "kernelspec": {
   "display_name": "Python 3 (ipykernel)",
   "language": "python",
   "name": "python3"
  },
  "language_info": {
   "codemirror_mode": {
    "name": "ipython",
    "version": 3
   },
   "file_extension": ".py",
   "mimetype": "text/x-python",
   "name": "python",
   "nbconvert_exporter": "python",
   "pygments_lexer": "ipython3",
   "version": "3.11.7"
  }
 },
 "nbformat": 4,
 "nbformat_minor": 5
}
