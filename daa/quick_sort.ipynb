{
 "cells": [
  {
   "cell_type": "code",
   "execution_count": 1,
   "id": "690fc19c-8216-4f23-ba14-ae310d67a1af",
   "metadata": {},
   "outputs": [
    {
     "name": "stdout",
     "output_type": "stream",
     "text": [
      "[0, 9, 10, 87]\n"
     ]
    }
   ],
   "source": [
    "import random\n",
    "import time\n",
    "\n",
    "def quick_sort(arr, low, high):\n",
    "    if low < high:\n",
    "        pivot_index = Randomizer(arr, low, high)\n",
    "        quick_sort(arr, low, pivot_index-1)\n",
    "        quick_sort(arr, pivot_index+1, high)\n",
    "\n",
    "\n",
    "\n",
    "def Randomizer(arr, low, high):\n",
    "    pivotindex = random.randint(low, high)\n",
    "    arr[pivotindex], arr[high] = arr[high], arr[pivotindex]\n",
    "    return Partition(arr, low, high)\n",
    "\n",
    "def Partition(arr, low, high):\n",
    "    pivot = arr[high]\n",
    "    i = low-1\n",
    "    for j in range(low, high):\n",
    "        if arr[j] < pivot:\n",
    "            i += 1\n",
    "            arr[i], arr[j] = arr[j], arr[i]\n",
    "    arr[i+1], arr[high] = arr[high], arr[i+1]\n",
    "    return i+1\n",
    "\n",
    "arr = [0, 10, 87, 9]\n",
    "quick_sort(arr, 0, 3)\n",
    "print(arr)\n"
   ]
  },
  {
   "cell_type": "code",
   "execution_count": null,
   "id": "2d3b07cf-80d6-4723-88f6-83d8273016b3",
   "metadata": {},
   "outputs": [],
   "source": []
  }
 ],
 "metadata": {
  "kernelspec": {
   "display_name": "Python 3 (ipykernel)",
   "language": "python",
   "name": "python3"
  },
  "language_info": {
   "codemirror_mode": {
    "name": "ipython",
    "version": 3
   },
   "file_extension": ".py",
   "mimetype": "text/x-python",
   "name": "python",
   "nbconvert_exporter": "python",
   "pygments_lexer": "ipython3",
   "version": "3.11.7"
  }
 },
 "nbformat": 4,
 "nbformat_minor": 5
}
